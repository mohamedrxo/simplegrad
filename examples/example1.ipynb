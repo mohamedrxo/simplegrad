{
 "cells": [
  {
   "cell_type": "markdown",
   "id": "772f7f04",
   "metadata": {},
   "source": [
    "## First test to the simplegrad library"
   ]
  },
  {
   "cell_type": "code",
   "execution_count": 3,
   "id": "e2c932d1",
   "metadata": {},
   "outputs": [
    {
     "data": {
      "text/plain": [
       "Tensor(data=2.0, grad=0.0, op=, label=x)"
      ]
     },
     "execution_count": 3,
     "metadata": {},
     "output_type": "execute_result"
    }
   ],
   "source": [
    "from simplegrad import Tensor\n",
    "x= Tensor(2.0, label=\"x\")\n",
    "x"
   ]
  }
 ],
 "metadata": {
  "kernelspec": {
   "display_name": "quant",
   "language": "python",
   "name": "python3"
  },
  "language_info": {
   "codemirror_mode": {
    "name": "ipython",
    "version": 3
   },
   "file_extension": ".py",
   "mimetype": "text/x-python",
   "name": "python",
   "nbconvert_exporter": "python",
   "pygments_lexer": "ipython3",
   "version": "3.10.18"
  }
 },
 "nbformat": 4,
 "nbformat_minor": 5
}
